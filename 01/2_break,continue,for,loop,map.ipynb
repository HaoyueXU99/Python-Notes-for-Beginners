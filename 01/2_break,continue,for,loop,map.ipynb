{
  "nbformat": 4,
  "nbformat_minor": 0,
  "metadata": {
    "colab": {
      "provenance": []
    },
    "kernelspec": {
      "name": "python3",
      "display_name": "Python 3"
    },
    "language_info": {
      "name": "python"
    }
  },
  "cells": [
    {
      "cell_type": "code",
      "execution_count": null,
      "metadata": {
        "id": "zUu0GaQEZYsj"
      },
      "outputs": [],
      "source": [
        "# An example show how break and countinue works\n",
        "\n",
        "print(\"See what you will get when enter 10:\")\n",
        "given_number = int(input(\"Please input:\"))\n",
        "sum = 0\n",
        "count = 0\n",
        "flag = 0\n",
        "while True:\n",
        "  if given_number == 10:\n",
        "    flag = flag + 1\n",
        "    print(flag)\n",
        "    if flag == 10:\n",
        "      break\n",
        "    print(\"xxxx\")\n",
        "    continue\n",
        "  sum =  given_number + sum\n",
        "  print(\"sum:\",sum)\n",
        "  count = count + 1\n",
        "  given_number = int(input(\"Please continue input:\"))\n",
        "\n",
        "\n",
        "if flag == 10:\n",
        "  avg = sum / count\n",
        "  print(avg)"
      ]
    },
    {
      "cell_type": "code",
      "source": [
        "print(\"Please input in the format of 12,13,35,56\")\n",
        "input_str = input(\"Please input:\")\n",
        "given_numbers = input_str.split(\",\")\n",
        "print(given_numbers)\n",
        "\n",
        "sum = 0\n",
        "count = len(given_numbers)\n",
        "for num in given_numbers:\n",
        "  sum = sum + float(num)\n",
        "\n",
        "avg = sum / count\n",
        "\n",
        "print(avg)\n"
      ],
      "metadata": {
        "id": "M9J-n601Z101"
      },
      "execution_count": null,
      "outputs": []
    },
    {
      "cell_type": "code",
      "source": [
        "# Python program to demonstrate working of map.\n",
        "\n",
        "# Return double of n\n",
        "def addition(n):\n",
        "  result = n * n * 2\n",
        "\n",
        "  return result\n",
        "\n",
        "# We double all numbers using map()\n",
        "numbers = (1, 3, 6, 9)\n",
        "result = map(addition, numbers)\n",
        "print(list(result))\n"
      ],
      "metadata": {
        "id": "r4j9kMbRaCJH"
      },
      "execution_count": null,
      "outputs": []
    },
    {
      "cell_type": "code",
      "source": [
        "# Using dictionary comprehension\n",
        "n = int(input())\n",
        "\n",
        "ans = {i:i *i for i in range (1, n+1)}\n",
        "print(ans)"
      ],
      "metadata": {
        "id": "iRfxtaV_aK7d"
      },
      "execution_count": null,
      "outputs": []
    },
    {
      "cell_type": "code",
      "source": [
        "# The use of end\n",
        "for i in range(2000,3201):\n",
        "    if i%7==0 and i%5!=0:\n",
        "        print(i, end = \",\")"
      ],
      "metadata": {
        "id": "01gvxJnlaTDg"
      },
      "execution_count": null,
      "outputs": []
    },
    {
      "cell_type": "code",
      "source": [
        "n = int(input())\n",
        "\n",
        "# def shortFact(x):\n",
        "#   print(\"call shortFact function once\")\n",
        "#   return 1 if x <= 1 else x * shortFact(x-1)\n",
        "\n",
        "# Iteration\n",
        "# def shortFact(x):\n",
        "#   print(\"call shortFact function once\")\n",
        "#   return 1 if x <= 1 else x * (x-1)\n",
        "\n",
        "def shortFact(x):\n",
        "  print(\"call shortFact function once\")\n",
        "  if x <= 1 :\n",
        "    return 1\n",
        "  else:\n",
        "    return x * shortFact(x-1)\n",
        "\n",
        "\n",
        "\n",
        "print(shortFact(n))"
      ],
      "metadata": {
        "id": "YggUk2lHabt3"
      },
      "execution_count": null,
      "outputs": []
    },
    {
      "cell_type": "code",
      "source": [
        "# The use of for loop\n",
        "def square_dict(s):\n",
        "    lst1= []\n",
        "    x = {}\n",
        "\n",
        "    for i in range(1,s+1):\n",
        "        # print(i)\n",
        "        s=i**2\n",
        "        # print(s)\n",
        "        lst1.append(s)\n",
        "\n",
        "    for a,b in enumerate(lst1,1):\n",
        "        # x=dict({a:b})\n",
        "        # a 是 key\n",
        "        # b 是 value\n",
        "        x[a] = b\n",
        "\n",
        "    print(lst1)\n",
        "    return x\n"
      ],
      "metadata": {
        "id": "QBNn7S2kapY_"
      },
      "execution_count": null,
      "outputs": []
    }
  ]
}