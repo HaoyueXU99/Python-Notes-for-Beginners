{
  "nbformat": 4,
  "nbformat_minor": 0,
  "metadata": {
    "colab": {
      "provenance": []
    },
    "kernelspec": {
      "name": "python3",
      "display_name": "Python 3"
    },
    "language_info": {
      "name": "python"
    }
  },
  "cells": [
    {
      "cell_type": "markdown",
      "source": [
        "# 先让我们来回答几个问题\n",
        "\n",
        "## 为什么要学Python？\n",
        "- 这个时代最流行也最必需要掌握的语言\n",
        "- 语言简洁、开发效率高、可移植性强，可与其他编程语言衔接\n",
        "- 应用广泛，无论是数据处理、机器学习、还是Web开发\n",
        "- ... 太多理由了\n",
        "\n",
        "## 学习的路径是什么？\n",
        "\n",
        "让我们从最基础的操作开始，\n",
        "- 学习语法：\n",
        "理解变量间的赋值、基本的数据类型、条件与循环语句、函数的用法...\n",
        "- 规范代码：变量和函数的命名...\n",
        "- 深挖相关数据分析的应用。\n",
        "\n",
        "\n",
        "## 我听明白了，就是会了吗？\n",
        "\n",
        "得练练练！\n",
        "动脑子！\n",
        "实战！\n",
        "\n",
        "\n",
        "## 学了有什么用？\n",
        "- 掌握计算机编程思维，融会贯通不同语言。\n",
        "- 可能是为了，在GPT时代，更好的活下去吧。\n",
        "\n"
      ],
      "metadata": {
        "id": "DjjXEnHjVzHa"
      }
    },
    {
      "cell_type": "markdown",
      "source": [
        "---"
      ],
      "metadata": {
        "id": "qa6fHXirZeJn"
      }
    },
    {
      "cell_type": "markdown",
      "source": [
        "# 让我们从 Jupter Notebook 开始\n",
        "对。就是现在你看到的这个。\n",
        "\n",
        "## 为什么叫这个名字？\n",
        "Fernando Pérez 创始人最初的想法是建立一个Ju （Julia）、Py （Python）和 R 三种科学运算语言的计算工具平台。现在，Jupyter 能够几乎支持所有语言，将软件代码、计算输出、解释文档、多媒体资源等都整合在了一起。\n",
        "\n",
        "## 为什么用Jupyter Notebook?\n",
        "\n",
        "我真的很想说，好用就完事了。\n",
        "\n",
        "Jupyter在我看来最特殊的地方在于将代码块状化，以此带来了即强的交互感和丰富的结果可视化。这大大降低了学习代码的学习成本。\n",
        "\n",
        "\n",
        "\n"
      ],
      "metadata": {
        "id": "SnjPq7Q2VuZd"
      }
    },
    {
      "cell_type": "markdown",
      "source": [
        "---\n"
      ],
      "metadata": {
        "id": "9h03EV2AcCrz"
      }
    },
    {
      "cell_type": "markdown",
      "source": [
        "# 第一个Python程序"
      ],
      "metadata": {
        "id": "b0j3aMnGd4Zc"
      }
    },
    {
      "cell_type": "code",
      "source": [
        "# This is my first example\n",
        "import time # import time package\n",
        "\n",
        "# Print: How many seconds have elapsed from 0:00 on January 1, 1970 to the present\n",
        "print(time.time())\n",
        "\n",
        "if 10-9 > 0:\n",
        "  # use indentation\n",
        "  print(\"10 is greater than 9\")"
      ],
      "metadata": {
        "colab": {
          "base_uri": "https://localhost:8080/"
        },
        "id": "H0pToB8yd3gU",
        "outputId": "8c50a6e3-973c-4297-cf59-e227f11e121d"
      },
      "execution_count": 2,
      "outputs": [
        {
          "output_type": "stream",
          "name": "stdout",
          "text": [
            "1687275883.3087873\n",
            "10 is greater than 9\n"
          ]
        }
      ]
    },
    {
      "cell_type": "markdown",
      "source": [
        "# 变量、数字、序列、映射和集合\n",
        "\n"
      ],
      "metadata": {
        "id": "TTpt6NEDdqVp"
      }
    },
    {
      "cell_type": "markdown",
      "source": [
        "## 数据类型"
      ],
      "metadata": {
        "id": "7p-qOSTTf3Ol"
      }
    },
    {
      "cell_type": "code",
      "source": [
        "# 整数 int: 8\n",
        "type(8)"
      ],
      "metadata": {
        "colab": {
          "base_uri": "https://localhost:8080/"
        },
        "id": "o-NGYfzYcQGF",
        "outputId": "9360e4c7-203b-4707-ea0e-0fb545f4c7af"
      },
      "execution_count": 3,
      "outputs": [
        {
          "output_type": "execute_result",
          "data": {
            "text/plain": [
              "int"
            ]
          },
          "metadata": {},
          "execution_count": 3
        }
      ]
    },
    {
      "cell_type": "code",
      "source": [
        "# 浮点数 float: 8.8\n",
        "type(8.8)"
      ],
      "metadata": {
        "colab": {
          "base_uri": "https://localhost:8080/"
        },
        "id": "L7Jk3vaSgJRJ",
        "outputId": "449fb8d7-1a36-4bde-e997-098ba4c221ca"
      },
      "execution_count": 4,
      "outputs": [
        {
          "output_type": "execute_result",
          "data": {
            "text/plain": [
              "float"
            ]
          },
          "metadata": {},
          "execution_count": 4
        }
      ]
    },
    {
      "cell_type": "code",
      "source": [
        "# 字符串 str: \"8\"\n",
        "type(\"8\")"
      ],
      "metadata": {
        "colab": {
          "base_uri": "https://localhost:8080/"
        },
        "id": "QDkTGhfVf86i",
        "outputId": "4d371222-7fed-42ad-ad85-b9562907f32a"
      },
      "execution_count": 5,
      "outputs": [
        {
          "output_type": "execute_result",
          "data": {
            "text/plain": [
              "str"
            ]
          },
          "metadata": {},
          "execution_count": 5
        }
      ]
    },
    {
      "cell_type": "code",
      "source": [
        "# 布尔值 bool: True False\n",
        "type(True)"
      ],
      "metadata": {
        "colab": {
          "base_uri": "https://localhost:8080/"
        },
        "id": "EKCzAywugK-K",
        "outputId": "ab9f654f-a377-4250-8ec3-64feacf5fe90"
      },
      "execution_count": 6,
      "outputs": [
        {
          "output_type": "execute_result",
          "data": {
            "text/plain": [
              "bool"
            ]
          },
          "metadata": {},
          "execution_count": 6
        }
      ]
    },
    {
      "cell_type": "code",
      "source": [
        "# covert str to int\n",
        "int(\"8\")"
      ],
      "metadata": {
        "colab": {
          "base_uri": "https://localhost:8080/"
        },
        "id": "1jicObuDgnoh",
        "outputId": "d4a6fd74-fdaf-4e2b-f1eb-918fb9452e63"
      },
      "execution_count": 7,
      "outputs": [
        {
          "output_type": "execute_result",
          "data": {
            "text/plain": [
              "8"
            ]
          },
          "metadata": {},
          "execution_count": 7
        }
      ]
    },
    {
      "cell_type": "code",
      "source": [
        "# convert float to str\n",
        "str(1120.3)"
      ],
      "metadata": {
        "colab": {
          "base_uri": "https://localhost:8080/",
          "height": 35
        },
        "id": "76hNznntgvNT",
        "outputId": "85cee04e-f36f-4e0a-802b-f6dac0491bac"
      },
      "execution_count": 8,
      "outputs": [
        {
          "output_type": "execute_result",
          "data": {
            "text/plain": [
              "'1120.3'"
            ],
            "application/vnd.google.colaboratory.intrinsic+json": {
              "type": "string"
            }
          },
          "metadata": {},
          "execution_count": 8
        }
      ]
    },
    {
      "cell_type": "code",
      "source": [],
      "metadata": {
        "id": "TJxsbGJGg6PT"
      },
      "execution_count": null,
      "outputs": []
    }
  ]
}